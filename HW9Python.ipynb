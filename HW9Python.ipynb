{
  "nbformat": 4,
  "nbformat_minor": 0,
  "metadata": {
    "colab": {
      "provenance": [],
      "authorship_tag": "ABX9TyP1ywJ09AjJE1TWhhWCeNwb",
      "include_colab_link": true
    },
    "kernelspec": {
      "name": "python3",
      "display_name": "Python 3"
    },
    "language_info": {
      "name": "python"
    }
  },
  "cells": [
    {
      "cell_type": "markdown",
      "metadata": {
        "id": "view-in-github",
        "colab_type": "text"
      },
      "source": [
        "<a href=\"https://colab.research.google.com/github/NoAnny/FinalProject/blob/main/HW9Python.ipynb\" target=\"_parent\"><img src=\"https://colab.research.google.com/assets/colab-badge.svg\" alt=\"Open In Colab\"/></a>"
      ]
    },
    {
      "cell_type": "markdown",
      "source": [],
      "metadata": {
        "id": "-9xAyDG4PedZ"
      }
    },
    {
      "cell_type": "markdown",
      "source": [
        "Задача 1\n",
        "Работать с файлом california_housing_train.csv, который находится в папке sample_data. Определить среднюю стоимость дома, где кол-во людей от 0 до 500 (population) \n",
        "\n",
        "---\n",
        "\n"
      ],
      "metadata": {
        "id": "iowbTWM3PhQU"
      }
    },
    {
      "cell_type": "code",
      "source": [
        "import pandas as pd\n",
        "df = pd.read_csv('sample_data/california_housing_train.csv')"
      ],
      "metadata": {
        "id": "g1nQ-2eAPwrY"
      },
      "execution_count": 1,
      "outputs": []
    },
    {
      "cell_type": "code",
      "source": [
        "df[\n",
        "    (df['population'] < 500) & (df['population'] > 0)\n",
        "].median_house_value.mean()"
      ],
      "metadata": {
        "colab": {
          "base_uri": "https://localhost:8080/"
        },
        "id": "jiolaN-oP9pQ",
        "outputId": "ef0fc86e-cd99-4b2e-e0f6-7f7e63af5a81"
      },
      "execution_count": 4,
      "outputs": [
        {
          "output_type": "execute_result",
          "data": {
            "text/plain": [
              "206683.83635227982"
            ]
          },
          "metadata": {},
          "execution_count": 4
        }
      ]
    },
    {
      "cell_type": "markdown",
      "source": [
        "Задача 2\n",
        "Узнать какая максимальная households в зоне минимального значения population\n",
        "\n",
        "---\n",
        "\n"
      ],
      "metadata": {
        "id": "U3QvQalCQ8WG"
      }
    },
    {
      "cell_type": "code",
      "source": [
        "min_p = df.population.min()\n",
        "#min_p\n",
        "df[\n",
        "    df['population'] == min_p\n",
        "].households.max()"
      ],
      "metadata": {
        "colab": {
          "base_uri": "https://localhost:8080/"
        },
        "id": "cqGrxuraRCNU",
        "outputId": "3f23faf6-5c52-4fce-b74a-d91c04c5b400"
      },
      "execution_count": 7,
      "outputs": [
        {
          "output_type": "execute_result",
          "data": {
            "text/plain": [
              "4.0"
            ]
          },
          "metadata": {},
          "execution_count": 7
        }
      ]
    },
    {
      "cell_type": "markdown",
      "source": [],
      "metadata": {
        "id": "vjPTMWWyPraN"
      }
    }
  ]
}