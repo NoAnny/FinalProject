{
  "nbformat": 4,
  "nbformat_minor": 0,
  "metadata": {
    "colab": {
      "provenance": [],
      "authorship_tag": "ABX9TyOnbv7ErjoMCwQno7vxs6qy",
      "include_colab_link": true
    },
    "kernelspec": {
      "name": "python3",
      "display_name": "Python 3"
    },
    "language_info": {
      "name": "python"
    }
  },
  "cells": [
    {
      "cell_type": "markdown",
      "metadata": {
        "id": "view-in-github",
        "colab_type": "text"
      },
      "source": [
        "<a href=\"https://colab.research.google.com/github/NoAnny/FinalProject/blob/main/HW1.ipynb\" target=\"_parent\"><img src=\"https://colab.research.google.com/assets/colab-badge.svg\" alt=\"Open In Colab\"/></a>"
      ]
    },
    {
      "cell_type": "code",
      "execution_count": null,
      "metadata": {
        "id": "-yYRejIKNWkw"
      },
      "outputs": [],
      "source": []
    },
    {
      "cell_type": "markdown",
      "source": [
        "## Домашнее задание 1\n",
        "\n",
        "Оформляйте ноутбук, используя эти советы:\n",
        "\n",
        "* Номер задачи - заголовок 2\n",
        "* Номер подзадачи - заголовок 3\n",
        "* Предоставленные наборы данных оформляйте, как код"
      ],
      "metadata": {
        "id": "xd7QrNqSN1Mb"
      }
    },
    {
      "cell_type": "markdown",
      "source": [
        "## Домашнее задание 2\n",
        "На складе лежат разные фрукты в разном количестве.\\\n",
        "Нужно написать функцию, которая на вход принимает любое количество названий фруктов и их количество, а возвращает общее количество фруктов на складе"
      ],
      "metadata": {
        "id": "vVfXT18OOD1a"
      }
    },
    {
      "cell_type": "code",
      "source": [
        "def fruits(**kwargs):\n",
        "    count = 0\n",
        "    for i in kwargs.values():\n",
        "        count += i\n",
        "    return count\n",
        "fruits(apple = 10, orange = 6, peach = 20)"
      ],
      "metadata": {
        "colab": {
          "base_uri": "https://localhost:8080/"
        },
        "id": "MK57JJgXOLzT",
        "outputId": "931c611c-e28a-4d1c-cf3d-fe06b13ea9f4"
      },
      "execution_count": 3,
      "outputs": [
        {
          "output_type": "execute_result",
          "data": {
            "text/plain": [
              "36"
            ]
          },
          "metadata": {},
          "execution_count": 3
        }
      ]
    },
    {
      "cell_type": "markdown",
      "source": [
        "## Домашнее задание 3\n",
        "Дан список с затратами на рекламу. Но в данных есть ошибки, некоторые затраты имеют отрицательную величину. Удалите такие значения из списка и посчитайте суммарные затраты\n",
        "\n",
        "[100, 125, -90, 345, 655, -1, 0, 200]\n",
        "\n",
        "Используйте list comprehensions"
      ],
      "metadata": {
        "id": "vJmIsQQoOmHR"
      }
    },
    {
      "cell_type": "code",
      "source": [
        "list = [100, 125, -90, 345, 655, -1, 0, 200]\n",
        "sum (i for i in list if i > 0)"
      ],
      "metadata": {
        "colab": {
          "base_uri": "https://localhost:8080/"
        },
        "id": "5t99PyhVOxuW",
        "outputId": "2518d4f0-60b6-478f-b380-118bfca2a0e5"
      },
      "execution_count": 5,
      "outputs": [
        {
          "output_type": "execute_result",
          "data": {
            "text/plain": [
              "1425"
            ]
          },
          "metadata": {},
          "execution_count": 5
        }
      ]
    },
    {
      "cell_type": "markdown",
      "source": [
        "##Домашнее задание 4\n",
        "Даны два списка:\\\n",
        "\n",
        "Дата покупки\\\n",
        "['2021-09-14', '2021-12-15', '2021-09-08', '2021-12-05', '2021-10-09', '2021-09-30', '2021-12-22', '2021-11-29', '2021-12-24', '2021-11-26', '2021-10-27', '2021-12-18', '2021-11-09', '2021-11-23', '2021-09-27', '2021-10-02', '2021-12-27', '2021-09-20', '2021-12-13', '2021-11-01', '2021-11-09', '2021-12-06', '2021-12-08', '2021-10-09', '2021-10-31', '2021-09-30', '2021-11-09', '2021-12-13', '2021-10-26', '2021-12-09']\\\n",
        "\n",
        "Суммы покупок по датам\\\n",
        "[1270, 8413, 9028, 3703, 5739, 4095, 295, 4944, 5723, 3701, 4471, 651, 7037, 4274, 6275, 4988, 6930, 2971, 6592, 2004, 2822, 519, 3406, 2732, 5015, 2008, 316, 6333, 5700, 2887]\n",
        "###4.1 Найдите, какая выручка у компании в ноябре\n",
        "\n",
        "Используйте list comprehensions"
      ],
      "metadata": {
        "id": "aFkIdY1jQHfi"
      }
    },
    {
      "cell_type": "code",
      "source": [
        "purch_dates = ['2021-09-14', '2021-12-15', '2021-09-08', '2021-12-05', '2021-10-09', '2021-09-30', '2021-12-22',\n",
        "              '2021-11-29', '2021-12-24', '2021-11-26', '2021-10-27', '2021-12-18', '2021-11-09', '2021-11-23',\n",
        "              '2021-09-27', '2021-10-02', '2021-12-27', '2021-09-20', '2021-12-13', '2021-11-01', '2021-11-09',\n",
        "              '2021-12-06', '2021-12-08', '2021-10-09', '2021-10-31', '2021-09-30', '2021-11-09', '2021-12-13',\n",
        "              '2021-10-26', '2021-12-09']\n",
        "purch_sum = [1270, 8413, 9028, 3703, 5739, 4095, 295, 4944, 5723, 3701, 4471, 651, 7037, 4274, 6275,\n",
        "             4988, 6930,2971, 6592, 2004, 2822, 519, 3406, 2732, 5015, 2008, 316, 6333, 5700, 2887]\n",
        "sum(purch_sum[i] for i in range(len(purch_dates)) if purch_dates[i].split('-')[1] == '11')"
      ],
      "metadata": {
        "colab": {
          "base_uri": "https://localhost:8080/"
        },
        "id": "4WtOUagKQedc",
        "outputId": "3b9a20a3-68ce-40f9-d47e-44396c79254b"
      },
      "execution_count": 6,
      "outputs": [
        {
          "output_type": "execute_result",
          "data": {
            "text/plain": [
              "25098"
            ]
          },
          "metadata": {},
          "execution_count": 6
        }
      ]
    },
    {
      "cell_type": "markdown",
      "source": [
        "### 4.2 Найдите выручку компании в зависимости от месяца\n",
        "\n",
        "Для этого напишите функцию, которая на вход принимает список с датами и список с выручкой, а на выходе словарь, где ключи - это месяцы, а значения - это выручка.\n",
        "\n",
        "Используйте аннотирование типов."
      ],
      "metadata": {
        "id": "zlrRyzNJRCuy"
      }
    },
    {
      "cell_type": "code",
      "source": [
        "purch_dates = ['2021-09-14', '2021-12-15', '2021-09-08', '2021-12-05', '2021-10-09', '2021-09-30', '2021-12-22',\n",
        "              '2021-11-29', '2021-12-24', '2021-11-26', '2021-10-27', '2021-12-18', '2021-11-09', '2021-11-23',\n",
        "              '2021-09-27', '2021-10-02', '2021-12-27', '2021-09-20', '2021-12-13', '2021-11-01', '2021-11-09',\n",
        "              '2021-12-06', '2021-12-08', '2021-10-09', '2021-10-31', '2021-09-30', '2021-11-09', '2021-12-13',\n",
        "              '2021-10-26', '2021-12-09']\n",
        "purch_sum = [1270, 8413, 9028, 3703, 5739, 4095, 295, 4944, 5723, 3701, 4471, 651, 7037, 4274, 6275,\n",
        "             4988, 6930,2971, 6592, 2004, 2822, 519, 3406, 2732, 5015, 2008, 316, 6333, 5700, 2887]\n",
        "def monthly_sum(purch_dates: list, purch_sum: list) -> dict:\n",
        "    monthly_income = {}\n",
        "    for i in range(len(purch_dates)):\n",
        "        month = purch_dates[i].split('-')[1]\n",
        "        if month in monthly_income.keys():\n",
        "            monthly_income[month] += purch_sum[i]\n",
        "        else:\n",
        "            monthly_income[month] = purch_sum[i]\n",
        "    return monthly_income\n",
        "monthly_sum(purch_dates, purch_sum)"
      ],
      "metadata": {
        "colab": {
          "base_uri": "https://localhost:8080/"
        },
        "id": "Mt0lL_xFROmF",
        "outputId": "931b137b-ae32-4586-9594-ca5ba1a4fe9d"
      },
      "execution_count": 7,
      "outputs": [
        {
          "output_type": "execute_result",
          "data": {
            "text/plain": [
              "{'09': 25647, '12': 45452, '10': 28645, '11': 25098}"
            ]
          },
          "metadata": {},
          "execution_count": 7
        }
      ]
    }
  ]
}