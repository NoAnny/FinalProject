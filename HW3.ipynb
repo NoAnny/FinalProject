{
  "nbformat": 4,
  "nbformat_minor": 0,
  "metadata": {
    "colab": {
      "provenance": [],
      "authorship_tag": "ABX9TyO52vBU9ftnBuPLBp2LkQVY",
      "include_colab_link": true
    },
    "kernelspec": {
      "name": "python3",
      "display_name": "Python 3"
    },
    "language_info": {
      "name": "python"
    }
  },
  "cells": [
    {
      "cell_type": "markdown",
      "metadata": {
        "id": "view-in-github",
        "colab_type": "text"
      },
      "source": [
        "<a href=\"https://colab.research.google.com/github/NoAnny/FinalProject/blob/main/HW3.ipynb\" target=\"_parent\"><img src=\"https://colab.research.google.com/assets/colab-badge.svg\" alt=\"Open In Colab\"/></a>"
      ]
    },
    {
      "cell_type": "markdown",
      "source": [
        "#Задача 1\n",
        "* Скачать данные по ссылке https://www.kaggle.com/datasets/ionaskel/laptop-prices\n",
        "* Считать данные с помощью pandas\n",
        "* Вывести на экран первые 5 строк"
      ],
      "metadata": {
        "id": "pNuCvMqBd1e7"
      }
    },
    {
      "cell_type": "code",
      "source": [
        "import pandas as pd\n",
        "\n",
        "df = pd.read_csv('kc_house_data.csv', sep=',')\n",
        "df.head()"
      ],
      "metadata": {
        "id": "KA65lC_eedak"
      },
      "execution_count": null,
      "outputs": []
    },
    {
      "cell_type": "markdown",
      "source": [
        "1.2 Создать новый признак delta_renovated, который будет содержать разницу в годах между годом реновацией дома и годом постройки дома\n",
        "Если реновации дома не было, то в новом признаке поставьте 0"
      ],
      "metadata": {
        "id": "TzfeGlZveB65"
      }
    },
    {
      "cell_type": "code",
      "source": [
        "df['delta_renovated'] = df['yr_renovated'] - df['yr_built']\n",
        "df['delta_renovated'] = df['delta_renovated'].apply(lambda i: i if i > 0 else 0)\n",
        "df.head()"
      ],
      "metadata": {
        "id": "HC5FS1IBe0zJ"
      },
      "execution_count": null,
      "outputs": []
    },
    {
      "cell_type": "markdown",
      "source": [
        "1.3 Создайте признаки года продажи, месяца продажи"
      ],
      "metadata": {
        "id": "pKp9gd8FeIEN"
      }
    },
    {
      "cell_type": "code",
      "source": [
        "df['year'] = df['date'].apply(lambda i: int (i[:4]))\n",
        "df['month'] = df['date'].apply(lambda i: int (i[4:6]))\n",
        "df.head()"
      ],
      "metadata": {
        "id": "h-GhL5kae6iD"
      },
      "execution_count": null,
      "outputs": []
    },
    {
      "cell_type": "markdown",
      "source": [
        "1.4 Удалите признаки date, zipcode, lat, long"
      ],
      "metadata": {
        "id": "8WvNykMjeJKR"
      }
    },
    {
      "cell_type": "code",
      "source": [
        "df.drop(columns = ['date', 'zipcode', 'lat', 'long'], inplace = True)\n",
        "df.head()"
      ],
      "metadata": {
        "id": "WytnsKnDfIJw"
      },
      "execution_count": null,
      "outputs": []
    },
    {
      "cell_type": "markdown",
      "source": [
        "#Задание 2\n",
        "Создайте датафрейм с клиентами:\n",
        "clients = pd.DataFrame({\n",
        "'client_id': [1459, 4684, 3498, 3942, 4535, 2308, 2866, 2765, 1472, 4236, 2295,\n",
        "939, 3840, 280, 20, 4332, 3475, 4213, 3113, 4809, 2134, 2242,\n",
        "2068, 4929, 1384, 1589, 3317, 2260, 1727, 1764, 1611, 1474],\n",
        "'house_id': [8965450190, 6823100225, 5104540330, 2131701075, 1522700060,\n",
        "1189000207, 6821600300, 7137950720, 9510920050, 6131600255,\n",
        "5428000070, 1788800910, 8100400160, 3123049142, 6306800010,\n",
        "5083000375, 7920100025, 1951600150, 809001400, 339600110,\n",
        "1622049154, 1099600250, 8563000110, 2768100205, 3995700435,\n",
        "8861700030, 3303980210, 7731100066, 8146100580, 825069097,\n",
        "3889100029, 9524100196]\n",
        "})\n",
        "\n",
        "house_id - это индексы датафрейма с домами"
      ],
      "metadata": {
        "id": "O2bBY3EjfLTm"
      }
    },
    {
      "cell_type": "code",
      "source": [
        "clients = pd.DataFrame({\n",
        "    'client_id': [1459, 4684, 3498, 3942, 4535, 2308, 2866, 2765, 1472, 4236, 2295, 939, 3840, 280, 20,\n",
        "                  4332, 3475, 4213, 3113, 4809, 2134, 2242, 2068, 4929, 1384, 1589, 3317, 2260, 1727,\n",
        "                  1764, 1611, 1474],\n",
        "    'house_id': [8965450190, 6823100225, 5104540330, 2131701075, 1522700060, 1189000207, 6821600300,\n",
        "                 7137950720, 9510920050, 6131600255, 5428000070, 1788800910, 8100400160, 3123049142,\n",
        "                 6306800010, 5083000375, 7920100025, 1951600150, 809001400, 339600110, 1622049154,\n",
        "                 1099600250, 8563000110, 2768100205, 3995700435, 8861700030, 3303980210, 7731100066,\n",
        "                 8146100580, 825069097, 3889100029, 9524100196] })\n",
        "clients"
      ],
      "metadata": {
        "id": "nKvK7vBrffWI"
      },
      "execution_count": null,
      "outputs": []
    },
    {
      "cell_type": "markdown",
      "source": [
        "2.1 Присоедините к таблице clients данные по домам через метод join"
      ],
      "metadata": {
        "id": "DABTnq_xfXfy"
      }
    },
    {
      "cell_type": "code",
      "source": [
        "clients_house_id = clients.set_index('house_id')\n",
        "clients_house_id.head()"
      ],
      "metadata": {
        "id": "YyDpRTJ-f1XU"
      },
      "execution_count": null,
      "outputs": []
    },
    {
      "cell_type": "code",
      "source": [
        "df_idx = df.set_index('id')\n",
        "df_idx.head()"
      ],
      "metadata": {
        "id": "X3_ziISBf8fG"
      },
      "execution_count": null,
      "outputs": []
    },
    {
      "cell_type": "code",
      "source": [
        "joined_data = clients_house_id.join(df_idx)\n",
        "joined_data.head()"
      ],
      "metadata": {
        "id": "C16pK_1of-Ra"
      },
      "execution_count": null,
      "outputs": []
    },
    {
      "cell_type": "markdown",
      "source": [
        "2.2 Присоедините к таблице clients данные по домам через метод merge\n",
        "Это нужно, чтобы понимать, какие дома покупались клиентами\n"
      ],
      "metadata": {
        "id": "E_txwiJbfbWU"
      }
    },
    {
      "cell_type": "code",
      "source": [
        "merged_data = clients.merge(df, left_on = 'house_id', right_on = 'id')\n",
        "merged_data.head()"
      ],
      "metadata": {
        "id": "odgEtk8AgGNN"
      },
      "execution_count": null,
      "outputs": []
    },
    {
      "cell_type": "markdown",
      "source": [
        "#Задача 3\n",
        "Составьте несколько сводных таблиц\n"
      ],
      "metadata": {
        "id": "hP09iKfJgSqi"
      }
    },
    {
      "cell_type": "markdown",
      "source": [
        "3.1 Найдите среднюю стоимость домов в зависимости от количества спален\n",
        "Отсортируйте от меньшей стоимости к большей\n"
      ],
      "metadata": {
        "id": "noU_SflqgX0Q"
      }
    },
    {
      "cell_type": "code",
      "source": [
        "df.groupby('bedrooms').agg({'price': 'mean'}).sort_values('price')"
      ],
      "metadata": {
        "id": "sUAJQeGAgnsg"
      },
      "execution_count": null,
      "outputs": []
    },
    {
      "cell_type": "markdown",
      "source": [
        "3.2 Найдите минимальную, среднюю и максимальную стоимости домов в зависимости от состояния дома\n"
      ],
      "metadata": {
        "id": "H6NngxWLgcIc"
      }
    },
    {
      "cell_type": "code",
      "source": [
        "\n",
        "df.groupby('condition').agg({'price': ['min', 'mean', 'max']})"
      ],
      "metadata": {
        "id": "WQoUP9LYg14z"
      },
      "execution_count": null,
      "outputs": []
    },
    {
      "cell_type": "markdown",
      "source": [
        "3.3 Постройте таблицу с подсчетом количества домов в данных в зависимости от вида на набережную и оценкой вида\n"
      ],
      "metadata": {
        "id": "IK22choXge8I"
      }
    },
    {
      "cell_type": "code",
      "source": [
        "df.pivot_table(index = 'waterfront', columns = 'view', values = 'condition', aggfunc = 'count', fill_value = 0)"
      ],
      "metadata": {
        "id": "ajKynW9nhBbp"
      },
      "execution_count": null,
      "outputs": []
    },
    {
      "cell_type": "markdown",
      "source": [
        "3.4 Каких домов в зависимости от этажности и количества спален больше?\n"
      ],
      "metadata": {
        "id": "xbLb0vLAghus"
      }
    },
    {
      "cell_type": "code",
      "source": [
        "\n",
        "pd.crosstab(index = df['floors'], columns = df['bedrooms'])"
      ],
      "metadata": {
        "id": "raonzQShhF78"
      },
      "execution_count": null,
      "outputs": []
    },
    {
      "cell_type": "markdown",
      "source": [
        "3.5 Постройте таблицу с подсчетом медианной стоимости домов в данных в зависимости от состояния дома и оценки дома"
      ],
      "metadata": {
        "id": "nEiAeXaAglGq"
      }
    },
    {
      "cell_type": "code",
      "source": [
        "df.pivot_table(index = 'condition', columns = 'grade', values = 'price', aggfunc = 'median', fill_value = 0)"
      ],
      "metadata": {
        "id": "l19lS08thQE0"
      },
      "execution_count": null,
      "outputs": []
    }
  ]
}